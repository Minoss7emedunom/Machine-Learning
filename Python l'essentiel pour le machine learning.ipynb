{
 "cells": [
  {
   "cell_type": "markdown",
   "id": "94f64d75",
   "metadata": {},
   "source": [
    "## Les bases de Python"
   ]
  },
  {
   "cell_type": "code",
   "execution_count": 1,
   "id": "7274766b",
   "metadata": {},
   "outputs": [
    {
     "data": {
      "text/plain": [
       "'\\nnote1\\nnote1\\n'"
      ]
     },
     "execution_count": 1,
     "metadata": {},
     "output_type": "execute_result"
    }
   ],
   "source": [
    "# ceci est un commentaire\n",
    "'''\n",
    "note1\n",
    "note1\n",
    "'''"
   ]
  },
  {
   "cell_type": "code",
   "execution_count": 2,
   "id": "b8d03e74",
   "metadata": {},
   "outputs": [
    {
     "name": "stdout",
     "output_type": "stream",
     "text": [
      "5\n"
     ]
    }
   ],
   "source": [
    "x = 2\n",
    "y = 3\n",
    "z = x+y\n",
    "print(z)"
   ]
  },
  {
   "cell_type": "markdown",
   "id": "07d5e653",
   "metadata": {},
   "source": [
    "## structure de controle"
   ]
  },
  {
   "cell_type": "code",
   "execution_count": 8,
   "id": "551437b5",
   "metadata": {},
   "outputs": [
    {
     "name": "stdout",
     "output_type": "stream",
     "text": [
      "alerte\n"
     ]
    }
   ],
   "source": [
    "signal = 1\n",
    "if signal == 1:\n",
    "    print(\"alerte\")"
   ]
  },
  {
   "cell_type": "code",
   "execution_count": 9,
   "id": "4fa01dea",
   "metadata": {},
   "outputs": [
    {
     "name": "stdout",
     "output_type": "stream",
     "text": [
      "Attention\n"
     ]
    }
   ],
   "source": [
    "signal = 0\n",
    "if signal == 1:\n",
    "    print(\"alerte\")\n",
    "elif signal >= 0 :\n",
    "    print(\"Attention\")\n",
    "else :\n",
    "    print(\"No alerte\")"
   ]
  },
  {
   "cell_type": "code",
   "execution_count": 11,
   "id": "5ad86853",
   "metadata": {},
   "outputs": [
    {
     "name": "stdout",
     "output_type": "stream",
     "text": [
      "0\n",
      "1\n",
      "2\n",
      "3\n",
      "4\n",
      "5\n",
      "6\n",
      "7\n",
      "8\n",
      "9\n",
      "10\n",
      "11\n",
      "12\n",
      "13\n",
      "14\n",
      "15\n",
      "16\n",
      "17\n",
      "18\n",
      "19\n"
     ]
    }
   ],
   "source": [
    "for i in range(20):\n",
    "    print(i)"
   ]
  },
  {
   "cell_type": "code",
   "execution_count": 12,
   "id": "1bc42ad3",
   "metadata": {},
   "outputs": [
    {
     "name": "stdout",
     "output_type": "stream",
     "text": [
      "0\n",
      "1\n",
      "2\n",
      "3\n",
      "4\n",
      "5\n",
      "6\n",
      "7\n",
      "8\n",
      "9\n"
     ]
    }
   ],
   "source": [
    "i = 0\n",
    "while i<10:\n",
    "    print(i)\n",
    "    i += 1"
   ]
  },
  {
   "cell_type": "markdown",
   "id": "92e2e9e1",
   "metadata": {},
   "source": [
    "## Fonctions et modules"
   ]
  },
  {
   "cell_type": "code",
   "execution_count": 18,
   "id": "da39421e",
   "metadata": {},
   "outputs": [],
   "source": [
    "import numpy as np"
   ]
  },
  {
   "cell_type": "code",
   "execution_count": 19,
   "id": "3379b86a",
   "metadata": {},
   "outputs": [
    {
     "name": "stdout",
     "output_type": "stream",
     "text": [
      "[[1. 1. 1.]\n",
      " [1. 1. 1.]]\n"
     ]
    }
   ],
   "source": [
    "A = np.ones((2,3))\n",
    "print(A)"
   ]
  },
  {
   "cell_type": "code",
   "execution_count": 20,
   "id": "a13d85ee",
   "metadata": {},
   "outputs": [],
   "source": [
    "def fonction_test(x,y,z):\n",
    "    resultats = x+y*z\n",
    "    return resultats"
   ]
  },
  {
   "cell_type": "code",
   "execution_count": 22,
   "id": "0c5a8264",
   "metadata": {},
   "outputs": [
    {
     "name": "stdout",
     "output_type": "stream",
     "text": [
      "14\n"
     ]
    }
   ],
   "source": [
    "print(fonction_test(2,3,4))"
   ]
  },
  {
   "cell_type": "code",
   "execution_count": null,
   "id": "f1aa10e1",
   "metadata": {},
   "outputs": [],
   "source": []
  }
 ],
 "metadata": {
  "kernelspec": {
   "display_name": "Python 3 (ipykernel)",
   "language": "python",
   "name": "python3"
  },
  "language_info": {
   "codemirror_mode": {
    "name": "ipython",
    "version": 3
   },
   "file_extension": ".py",
   "mimetype": "text/x-python",
   "name": "python",
   "nbconvert_exporter": "python",
   "pygments_lexer": "ipython3",
   "version": "3.11.5"
  }
 },
 "nbformat": 4,
 "nbformat_minor": 5
}
