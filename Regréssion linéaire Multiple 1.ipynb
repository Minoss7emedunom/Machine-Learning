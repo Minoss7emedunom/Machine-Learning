{
 "cells": [
  {
   "cell_type": "code",
   "execution_count": 2,
   "id": "ccd049aa",
   "metadata": {},
   "outputs": [],
   "source": [
    "import numpy as np\n",
    "from sklearn.datasets import make_regression\n",
    "import matplotlib.pyplot as plt"
   ]
  },
  {
   "cell_type": "markdown",
   "id": "89765585",
   "metadata": {},
   "source": [
    "## 1.Datasets"
   ]
  },
  {
   "cell_type": "code",
   "execution_count": 34,
   "id": "36fd8d95",
   "metadata": {},
   "outputs": [
    {
     "data": {
      "text/plain": [
       "<matplotlib.collections.PathCollection at 0x1fa8b3dbd90>"
      ]
     },
     "execution_count": 34,
     "metadata": {},
     "output_type": "execute_result"
    },
    {
     "data": {
      "image/png": "[encoded data removed]",
      "text/plain": [
       "<Figure size 640x480 with 1 Axes>"
      ]
     },
     "metadata": {},
     "output_type": "display_data"
    }
   ],
   "source": [
    "x,y = make_regression(n_samples = 100, n_features = 1 , noise = 10)\n",
    "y = y + abs(y/3)\n",
    "\n",
    "plt.scatter(x,y) #afficher les resultats, x en abscisse et y en ordonnée "
   ]
  },
  {
   "cell_type": "code",
   "execution_count": 35,
   "id": "5b6b9961",
   "metadata": {},
   "outputs": [
    {
     "name": "stdout",
     "output_type": "stream",
     "text": [
      "(100, 1)\n",
      "(100,)\n",
      "(100, 1)\n"
     ]
    }
   ],
   "source": [
    "# Verification des dimensions\n",
    "print(x.shape)\n",
    "print(y.shape)\n",
    "\n",
    "# redimensionner y\n",
    "y = y.reshape(y.shape[0],1)\n",
    "print(y.shape)"
   ]
  },
  {
   "cell_type": "code",
   "execution_count": 52,
   "id": "8d11b0d8",
   "metadata": {},
   "outputs": [
    {
     "name": "stdout",
     "output_type": "stream",
     "text": [
      "(100, 3)\n"
     ]
    }
   ],
   "source": [
    "# Creations de la matrice X, inclut le biais\n",
    "X = np.concatenate((x, np.ones((x.shape))), axis = 1)\n",
    "X = np.concatenate((x**2, X), axis = 1)\n",
    "print(X.shape)"
   ]
  },
  {
   "cell_type": "code",
   "execution_count": 53,
   "id": "549b5669",
   "metadata": {},
   "outputs": [
    {
     "name": "stdout",
     "output_type": "stream",
     "text": [
      "[[ 6.74330310e-01  8.21176175e-01  1.00000000e+00]\n",
      " [ 8.40597218e-02 -2.89930546e-01  1.00000000e+00]\n",
      " [ 5.05669809e-02 -2.24871032e-01  1.00000000e+00]\n",
      " [ 5.54141545e+00 -2.35402112e+00  1.00000000e+00]\n",
      " [ 5.26532978e-01  7.25625921e-01  1.00000000e+00]\n",
      " [ 3.29824875e-03  5.74303818e-02  1.00000000e+00]\n",
      " [ 3.24438019e-01 -5.69594609e-01  1.00000000e+00]\n",
      " [ 1.24388692e-01 -3.52687810e-01  1.00000000e+00]\n",
      " [ 5.86817986e-02 -2.42243263e-01  1.00000000e+00]\n",
      " [ 1.27213593e-01  3.56670146e-01  1.00000000e+00]\n",
      " [ 4.79396228e-01 -6.92384451e-01  1.00000000e+00]\n",
      " [ 1.10630909e+00  1.05181229e+00  1.00000000e+00]\n",
      " [ 1.77265536e+00  1.33141104e+00  1.00000000e+00]\n",
      " [ 9.29961999e-01 -9.64345373e-01  1.00000000e+00]\n",
      " [ 8.17697592e-01  9.04266328e-01  1.00000000e+00]\n",
      " [ 7.29810651e-01 -8.54289559e-01  1.00000000e+00]\n",
      " [ 4.95789345e-01  7.04123104e-01  1.00000000e+00]\n",
      " [ 8.10125373e-01  9.00069649e-01  1.00000000e+00]\n",
      " [ 6.36965323e-03 -7.98101073e-02  1.00000000e+00]\n",
      " [ 1.27439944e-01  3.56987316e-01  1.00000000e+00]\n",
      " [ 6.51635566e-01  8.07239472e-01  1.00000000e+00]\n",
      " [ 3.21890293e-02  1.79413013e-01  1.00000000e+00]\n",
      " [ 1.12799726e+00 -1.06207215e+00  1.00000000e+00]\n",
      " [ 1.09793727e-01 -3.31351365e-01  1.00000000e+00]\n",
      " [ 3.23047613e-02 -1.79735253e-01  1.00000000e+00]\n",
      " [ 9.44337079e-01  9.71770075e-01  1.00000000e+00]\n",
      " [ 8.62738844e-01  9.28837362e-01  1.00000000e+00]\n",
      " [ 4.12679777e-01  6.42401570e-01  1.00000000e+00]\n",
      " [ 1.29444792e+00 -1.13773807e+00  1.00000000e+00]\n",
      " [ 1.15627893e+00  1.07530411e+00  1.00000000e+00]\n",
      " [ 1.05829288e+00 -1.02873363e+00  1.00000000e+00]\n",
      " [ 1.88845529e+00  1.37421079e+00  1.00000000e+00]\n",
      " [ 7.80074032e-01  8.83217998e-01  1.00000000e+00]\n",
      " [ 7.95968887e-01 -8.92170884e-01  1.00000000e+00]\n",
      " [ 2.46520600e-02  1.57009745e-01  1.00000000e+00]\n",
      " [ 1.14495018e-01 -3.38371125e-01  1.00000000e+00]\n",
      " [ 2.08853316e-02  1.44517582e-01  1.00000000e+00]\n",
      " [ 1.90862738e+00 -1.38153081e+00  1.00000000e+00]\n",
      " [ 8.32813945e-01 -9.12586404e-01  1.00000000e+00]\n",
      " [ 1.18891126e-02  1.09037207e-01  1.00000000e+00]\n",
      " [ 2.28141919e-01 -4.77642041e-01  1.00000000e+00]\n",
      " [ 7.09194017e-02  2.66306969e-01  1.00000000e+00]\n",
      " [ 4.05517607e-01  6.36802643e-01  1.00000000e+00]\n",
      " [ 2.98241334e-01  5.46114763e-01  1.00000000e+00]\n",
      " [ 2.13266008e+00 -1.46036300e+00  1.00000000e+00]\n",
      " [ 1.56845116e-02  1.25237820e-01  1.00000000e+00]\n",
      " [ 2.77948486e-01 -5.27208200e-01  1.00000000e+00]\n",
      " [ 2.60349566e+00  1.61353514e+00  1.00000000e+00]\n",
      " [ 2.05797153e-01 -4.53648711e-01  1.00000000e+00]\n",
      " [ 7.52309369e+00  2.74282586e+00  1.00000000e+00]\n",
      " [ 1.36391842e+00 -1.16786918e+00  1.00000000e+00]\n",
      " [ 1.73616820e-01 -4.16673517e-01  1.00000000e+00]\n",
      " [ 6.72708478e-01  8.20188075e-01  1.00000000e+00]\n",
      " [ 1.02242203e+00 -1.01114887e+00  1.00000000e+00]\n",
      " [ 1.42643822e+00 -1.19433589e+00  1.00000000e+00]\n",
      " [ 1.53332294e-01  3.91576677e-01  1.00000000e+00]\n",
      " [ 5.26876319e+00  2.29537866e+00  1.00000000e+00]\n",
      " [ 6.42375546e-01 -8.01483341e-01  1.00000000e+00]\n",
      " [ 2.01953438e-01  4.49392298e-01  1.00000000e+00]\n",
      " [ 6.46151936e-01  8.03835764e-01  1.00000000e+00]\n",
      " [ 2.95598382e+00 -1.71929748e+00  1.00000000e+00]\n",
      " [ 3.82322847e-02 -1.95530777e-01  1.00000000e+00]\n",
      " [ 2.21547037e-01 -4.70687834e-01  1.00000000e+00]\n",
      " [ 5.67017412e+00 -2.38121274e+00  1.00000000e+00]\n",
      " [ 2.10343377e+00  1.45032195e+00  1.00000000e+00]\n",
      " [ 1.84940068e+00  1.35992672e+00  1.00000000e+00]\n",
      " [ 7.74105389e-02 -2.78227495e-01  1.00000000e+00]\n",
      " [ 5.51111680e-02  2.34757679e-01  1.00000000e+00]\n",
      " [ 3.31843380e-01 -5.76058487e-01  1.00000000e+00]\n",
      " [ 5.47976132e+00 -2.34088900e+00  1.00000000e+00]\n",
      " [ 1.79279789e+00  1.33895403e+00  1.00000000e+00]\n",
      " [ 6.19300151e-02 -2.48857419e-01  1.00000000e+00]\n",
      " [ 3.05169153e-02  1.74690914e-01  1.00000000e+00]\n",
      " [ 1.16387523e-01  3.41156157e-01  1.00000000e+00]\n",
      " [ 4.10137991e-01  6.40420168e-01  1.00000000e+00]\n",
      " [ 2.72650062e+00  1.65121186e+00  1.00000000e+00]\n",
      " [ 5.89089823e-03 -7.67521871e-02  1.00000000e+00]\n",
      " [ 1.64146608e+00  1.28119713e+00  1.00000000e+00]\n",
      " [ 2.80690496e-01 -5.29802318e-01  1.00000000e+00]\n",
      " [ 2.02861145e+00 -1.42429332e+00  1.00000000e+00]\n",
      " [ 2.16488952e-01 -4.65283733e-01  1.00000000e+00]\n",
      " [ 8.35759655e-02  2.89095080e-01  1.00000000e+00]\n",
      " [ 5.84663157e-02  2.41798089e-01  1.00000000e+00]\n",
      " [ 3.85983144e-01 -6.21275417e-01  1.00000000e+00]\n",
      " [ 1.98342712e+00 -1.40834198e+00  1.00000000e+00]\n",
      " [ 7.03528077e-01  8.38765806e-01  1.00000000e+00]\n",
      " [ 1.34113645e+00 -1.15807446e+00  1.00000000e+00]\n",
      " [ 6.39536097e-02 -2.52890509e-01  1.00000000e+00]\n",
      " [ 1.39555450e-01  3.73571212e-01  1.00000000e+00]\n",
      " [ 9.62777821e-01 -9.81212424e-01  1.00000000e+00]\n",
      " [ 1.24983464e-01  3.53530004e-01  1.00000000e+00]\n",
      " [ 2.27098734e-03 -4.76548774e-02  1.00000000e+00]\n",
      " [ 1.99504417e+00 -1.41246033e+00  1.00000000e+00]\n",
      " [ 3.01508008e+00 -1.73639860e+00  1.00000000e+00]\n",
      " [ 9.85126980e-01  9.92535632e-01  1.00000000e+00]\n",
      " [ 1.80456432e+00  1.34334073e+00  1.00000000e+00]\n",
      " [ 1.65367511e-01  4.06654043e-01  1.00000000e+00]\n",
      " [ 8.59414059e-02  2.93157647e-01  1.00000000e+00]\n",
      " [ 1.34983773e-01  3.67401378e-01  1.00000000e+00]\n",
      " [ 5.26696369e+00 -2.29498664e+00  1.00000000e+00]]\n"
     ]
    }
   ],
   "source": [
    "print(X)"
   ]
  },
  {
   "cell_type": "code",
   "execution_count": 55,
   "id": "a3464345",
   "metadata": {},
   "outputs": [
    {
     "name": "stdout",
     "output_type": "stream",
     "text": [
      "(3, 1)\n",
      "[[-0.16014742]\n",
      " [ 0.61251509]\n",
      " [ 0.02687416]]\n"
     ]
    }
   ],
   "source": [
    "# Initialisation du vecteur theta aléatoire\n",
    "theta = np.random.randn(3,1)\n",
    "print(theta.shape)\n",
    "print(theta)"
   ]
  },
  {
   "cell_type": "markdown",
   "id": "c570fdb1",
   "metadata": {},
   "source": [
    "## 2. Modèle Lineaire\n",
    "On implémente un modèle $F=X.\\theta$, puis on teste le modèle pour voir s'il n'y a pas de bug (bonne pratique oblige). En plus, cela permet de voir a quoi ressemble le modèle initial, défini par la valeur de theta."
   ]
  },
  {
   "cell_type": "code",
   "execution_count": 56,
   "id": "8f6772eb",
   "metadata": {},
   "outputs": [],
   "source": [
    "def model(X,theta):\n",
    "    return X.dot(theta)"
   ]
  },
  {
   "cell_type": "code",
   "execution_count": 57,
   "id": "53d06a18",
   "metadata": {},
   "outputs": [
    {
     "data": {
      "text/plain": [
       "array([[ 0.42186469],\n",
       "       [-0.16417463],\n",
       "       [-0.11896092],\n",
       "       [-2.30244267],\n",
       "       [ 0.38700808],\n",
       "       [ 0.06152292],\n",
       "       [-0.37396905],\n",
       "       [-0.20907298],\n",
       "       [-0.13090124],\n",
       "       [ 0.22496707],\n",
       "       [-0.47399583],\n",
       "       [ 0.4939525 ],\n",
       "       [ 0.55849732],\n",
       "       [-0.71273295],\n",
       "       [ 0.44979876],\n",
       "       [-0.61326838],\n",
       "       [ 0.37876079],\n",
       "       [ 0.44844091],\n",
       "       [-0.02303082],\n",
       "       [ 0.22512509],\n",
       "       [ 0.41696276],\n",
       "       [ 0.13161234],\n",
       "       [-0.80430691],\n",
       "       [-0.19366674],\n",
       "       [-0.08838992],\n",
       "       [ 0.47086484],\n",
       "       [ 0.45763565],\n",
       "       [ 0.35426521],\n",
       "       [-0.87731007],\n",
       "       [ 0.50033906],\n",
       "       [-0.77272359],\n",
       "       [ 0.56616775],\n",
       "       [ 0.44293166],\n",
       "       [-0.64706633],\n",
       "       [ 0.11909703],\n",
       "       [-0.19871935],\n",
       "       [ 0.11204862],\n",
       "       [-1.12499606],\n",
       "       [-0.66547179],\n",
       "       [ 0.09175708],\n",
       "       [-0.30222514],\n",
       "       [ 0.17863363],\n",
       "       [ 0.35198278],\n",
       "       [ 0.31361511],\n",
       "       [-1.20916022],\n",
       "       [ 0.10107238],\n",
       "       [-0.34056155],\n",
       "       [ 0.59824566],\n",
       "       [-0.28395041],\n",
       "       [ 0.50209234],\n",
       "       [-0.90689135],\n",
       "       [-0.25614895],\n",
       "       [ 0.4215192 ],\n",
       "       [-0.75620803],\n",
       "       [-0.93311499],\n",
       "       [ 0.24216501],\n",
       "       [ 0.58904939],\n",
       "       [-0.56692127],\n",
       "       [ 0.2697914 ],\n",
       "       [ 0.41575612],\n",
       "       [-1.49961467],\n",
       "       [-0.0990142 ],\n",
       "       [-0.29690943],\n",
       "       [-2.33971832],\n",
       "       [ 0.57835874],\n",
       "       [ 0.56367304],\n",
       "       [-0.15594148],\n",
       "       [ 0.16184086],\n",
       "       [-0.37911422],\n",
       "       [-2.2845253 ],\n",
       "       [ 0.55989174],\n",
       "       [-0.1354727 ],\n",
       "       [ 0.12898777],\n",
       "       [ 0.21719829],\n",
       "       [ 0.35345863],\n",
       "       [ 0.6016243 ],\n",
       "       [-0.02108113],\n",
       "       [ 0.54875017],\n",
       "       [-0.34258962],\n",
       "       [-1.17040388],\n",
       "       [-0.2927893 ],\n",
       "       [ 0.19056478],\n",
       "       [ 0.1656159 ],\n",
       "       [-0.41548061],\n",
       "       [-1.15339729],\n",
       "       [ 0.42796266],\n",
       "       [-0.89724346],\n",
       "       [-0.1382671 ],\n",
       "       [ 0.23334271],\n",
       "       [-0.72831964],\n",
       "       [ 0.22340084],\n",
       "       [-0.00267887],\n",
       "       [-1.15778028],\n",
       "       [-1.51955347],\n",
       "       [ 0.47705166],\n",
       "       [ 0.5606943 ],\n",
       "       [ 0.24947271],\n",
       "       [ 0.19267434],\n",
       "       [ 0.23029574],\n",
       "       [-2.22233042]])"
      ]
     },
     "execution_count": 57,
     "metadata": {},
     "output_type": "execute_result"
    }
   ],
   "source": [
    "model(X,theta)"
   ]
  },
  {
   "cell_type": "code",
   "execution_count": 58,
   "id": "e1b7f9de",
   "metadata": {},
   "outputs": [
    {
     "data": {
      "text/plain": [
       "<matplotlib.collections.PathCollection at 0x1fa8c8f19d0>"
      ]
     },
     "execution_count": 58,
     "metadata": {},
     "output_type": "execute_result"
    },
    {
     "data": {
      "image/png": "[encoded data removed]",
      "text/plain": [
       "<Figure size 640x480 with 1 Axes>"
      ]
     },
     "metadata": {},
     "output_type": "display_data"
    }
   ],
   "source": [
    "plt.scatter(x[:,0],y)\n",
    "plt.scatter(x[:,0], model(X,theta) , c ='red')"
   ]
  },
  {
   "cell_type": "markdown",
   "id": "6405b4a7",
   "metadata": {},
   "source": [
    "## 3. Fonction coût : Erreur Quadratique moyenne\n",
    "On mesure les erreurs du modèle sur le Dataset X,y en implémentant l'erreur qudratique moyenne, $Mean Squared Error (MSE)$ en anglais.\n",
    "\n",
    "$J(\\theta) = \\frac{1}{2m} \\sum (X.\\theta - y)^{2}$\n",
    "\n",
    "Ensuite, on teste notre foonction, pour voir s'il n'y a pas de bug"
   ]
  },
  {
   "cell_type": "code",
   "execution_count": 59,
   "id": "18e5a3ae",
   "metadata": {},
   "outputs": [],
   "source": [
    "def cost_function(X,y,theta):\n",
    "    m = len(y)\n",
    "    return 1/(2*m) * np.sum((model(X,theta) - y)**2)"
   ]
  },
  {
   "cell_type": "code",
   "execution_count": 60,
   "id": "32128c8a",
   "metadata": {},
   "outputs": [
    {
     "data": {
      "text/plain": [
       "2721.8898642898416"
      ]
     },
     "execution_count": 60,
     "metadata": {},
     "output_type": "execute_result"
    }
   ],
   "source": [
    "cost_function(X,y,theta)"
   ]
  },
  {
   "cell_type": "markdown",
   "id": "7bb0cc87",
   "metadata": {},
   "source": [
    "## 4. Gradient et Descente de Gradient\n",
    "On implémente la formule du gradient pour la $MSE$\n",
    "\n",
    "$\\frac{\\partial J(\\theta)}{\\partial \\theta} = \\frac{1}{m}X^{T}.(X.\\theta - y)$\n",
    "\n",
    "Ensuite on utilise cette fonction dans la descente de gradient :\n",
    "\n",
    "$\\theta = \\theta - \\alpha \\frac{\\partial J(\\theta)}{\\partial \\theta}$"
   ]
  },
  {
   "cell_type": "code",
   "execution_count": 61,
   "id": "701d5de7",
   "metadata": {},
   "outputs": [],
   "source": [
    "def grad(X,y,theta):\n",
    "    m = len(y)\n",
    "    return 1/m * X.T.dot(model(X,theta) - y)"
   ]
  },
  {
   "cell_type": "code",
   "execution_count": 62,
   "id": "48d1797d",
   "metadata": {},
   "outputs": [],
   "source": [
    "def gradient_descent(X,y,theta,learning_rate, n_iterations):\n",
    "    cost_history = np.zeros(n_iterations) # Création dun nouveau tableau de stockage pour enregistrer l'évolution du cout du modèle\n",
    "    \n",
    "    for i in range(0, n_iterations):\n",
    "        theta = theta - learning_rate*grad(X,y,theta) # Mise a jour parapmètre theta (formule du gradient descent)\n",
    "        cost_history[i] = cost_function(X,y,theta) # On enrégistre la valeur du Cout au tour i dans la cost_history[i]\n",
    "        \n",
    "    return theta, cost_history"
   ]
  },
  {
   "cell_type": "markdown",
   "id": "679fe3bd",
   "metadata": {},
   "source": [
    "## 5. Phase d'entraînement \n",
    "On definit un nombre d'iterations, ainsi qu'un pas d'apprentissage $\\alpha$, et c'est partit !\n",
    "\n",
    "Une fois le modele entraîné, on observe les resultats par rapport a notre dataset"
   ]
  },
  {
   "cell_type": "code",
   "execution_count": 63,
   "id": "2ee142b4",
   "metadata": {},
   "outputs": [],
   "source": [
    "n_iterations = 1000\n",
    "learning_rate = 0.01\n",
    "\n",
    "theta_final , cost_history = gradient_descent(X,y, theta, learning_rate, n_iterations )"
   ]
  },
  {
   "cell_type": "code",
   "execution_count": 64,
   "id": "74c50c19",
   "metadata": {},
   "outputs": [
    {
     "name": "stdout",
     "output_type": "stream",
     "text": [
      "[[ 9.87432247]\n",
      " [71.08580388]\n",
      " [ 9.29280739]]\n"
     ]
    }
   ],
   "source": [
    "print(theta_final) #Voici les parametres du modele une fois que la machine a été entaîné"
   ]
  },
  {
   "cell_type": "code",
   "execution_count": 65,
   "id": "c144106f",
   "metadata": {},
   "outputs": [
    {
     "data": {
      "text/plain": [
       "<matplotlib.collections.PathCollection at 0x1fa8b292ed0>"
      ]
     },
     "execution_count": 65,
     "metadata": {},
     "output_type": "execute_result"
    },
    {
     "data": {
      "image/png": "[encoded data removed]",
      "text/plain": [
       "<Figure size 640x480 with 1 Axes>"
      ]
     },
     "metadata": {},
     "output_type": "display_data"
    }
   ],
   "source": [
    "#Création d'un vecteur prédictions qui contient les prédictions de notre modele final\n",
    "prediction = model(X, theta_final)\n",
    "\n",
    "# Affiche les resultats de prédictions (en rouge) par rapport a notre dataset (en bleu)\n",
    "plt.scatter(x[:,0],y)\n",
    "plt.scatter(x[:,0], prediction, c = 'r')"
   ]
  },
  {
   "cell_type": "markdown",
   "id": "4f8cde3a",
   "metadata": {},
   "source": [
    "## 6. Courbe d'apprentissage\n",
    "Pour vérifier si notre algorithme de Descente de gradient a bien fonctionné, on observe l'évolution de la fonction coût a travers les iterations. On esr sensé obtenir une courbe qui diminue a chaque iterations jusqu'a stagner a un niveau minimal (proche de zéro). Si la courbe ne suit pas ce motif, alors le pas $\\textbf{learning_rate}$ est peut être trop élevé. Il faut prendre un pas plus faible."
   ]
  },
  {
   "cell_type": "code",
   "execution_count": 66,
   "id": "3d358a7e",
   "metadata": {},
   "outputs": [
    {
     "data": {
      "text/plain": [
       "[<matplotlib.lines.Line2D at 0x1fa8c8ac990>]"
      ]
     },
     "execution_count": 66,
     "metadata": {},
     "output_type": "execute_result"
    },
    {
     "data": {
      "image/png": "[encoded data removed]",
      "text/plain": [
       "<Figure size 640x480 with 1 Axes>"
      ]
     },
     "metadata": {},
     "output_type": "display_data"
    }
   ],
   "source": [
    "plt.plot(range(n_iterations), cost_history)"
   ]
  },
  {
   "cell_type": "markdown",
   "id": "a7a408a0",
   "metadata": {},
   "source": [
    "## 7. Evaluation finale\n",
    "Pour évaluer la réelle performance de notre modele avec une métrique populaire (pour votre patron, client, collegues) on peut utiliser le $\\textbf{Coefficient de détermination}$, aussi connu sous le nom de $R^{2}$. Il nous vient de la méthodes des moindres carrées"
   ]
  },
  {
   "cell_type": "code",
   "execution_count": 67,
   "id": "013fc9f7",
   "metadata": {},
   "outputs": [],
   "source": [
    "def coef_determination(y , pred):\n",
    "    u = ((y-pred)**2).sum()\n",
    "    v = ((y - y.mean())**2).sum()\n",
    "    return 1-u/v"
   ]
  },
  {
   "cell_type": "code",
   "execution_count": 68,
   "id": "177c5b47",
   "metadata": {},
   "outputs": [
    {
     "data": {
      "text/plain": [
       "0.9718382453928514"
      ]
     },
     "execution_count": 68,
     "metadata": {},
     "output_type": "execute_result"
    }
   ],
   "source": [
    "coef_determination(y , prediction)"
   ]
  },
  {
   "cell_type": "code",
   "execution_count": null,
   "id": "8188125e",
   "metadata": {},
   "outputs": [],
   "source": []
  }
 ],
 "metadata": {
  "kernelspec": {
   "display_name": "Python 3 (ipykernel)",
   "language": "python",
   "name": "python3"
  },
  "language_info": {
   "codemirror_mode": {
    "name": "ipython",
    "version": 3
   },
   "file_extension": ".py",
   "mimetype": "text/x-python",
   "name": "python",
   "nbconvert_exporter": "python",
   "pygments_lexer": "ipython3",
   "version": "3.11.5"
  }
 },
 "nbformat": 4,
 "nbformat_minor": 5
}
