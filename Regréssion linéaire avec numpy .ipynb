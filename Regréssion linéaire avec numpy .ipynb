{
 "cells": [
  {
   "cell_type": "code",
   "execution_count": 1,
   "id": "ccd049aa",
   "metadata": {},
   "outputs": [],
   "source": [
    "import numpy as np\n",
    "from sklearn.datasets import make_regression\n",
    "import matplotlib.pyplot as plt"
   ]
  },
  {
   "cell_type": "markdown",
   "id": "89765585",
   "metadata": {},
   "source": [
    "## 1.Datasets"
   ]
  },
  {
   "cell_type": "code",
   "execution_count": 3,
   "id": "36fd8d95",
   "metadata": {},
   "outputs": [
    {
     "data": {
      "text/plain": [
       "<matplotlib.collections.PathCollection at 0x27ef0c30750>"
      ]
     },
     "execution_count": 3,
     "metadata": {},
     "output_type": "execute_result"
    },
    {
     "data": {
      "image/png": "[encoded data removed]",
      "text/plain": [
       "<Figure size 640x480 with 1 Axes>"
      ]
     },
     "metadata": {},
     "output_type": "display_data"
    }
   ],
   "source": [
    "x,y = make_regression(n_samples = 100, n_features = 1 , noise = 10)\n",
    "plt.scatter(x,y)"
   ]
  },
  {
   "cell_type": "code",
   "execution_count": 5,
   "id": "5b6b9961",
   "metadata": {},
   "outputs": [
    {
     "name": "stdout",
     "output_type": "stream",
     "text": [
      "(100, 1)\n",
      "(100, 1)\n"
     ]
    }
   ],
   "source": [
    "print(x.shape)\n",
    "y = y.reshape(y.shape[0],1)\n",
    "print(y.shape)"
   ]
  },
  {
   "cell_type": "code",
   "execution_count": 6,
   "id": "8d11b0d8",
   "metadata": {},
   "outputs": [
    {
     "name": "stdout",
     "output_type": "stream",
     "text": [
      "(100, 2)\n"
     ]
    }
   ],
   "source": [
    "# Matrice X\n",
    "X = np.concatenate((x, np.ones((x.shape))), axis = 1)\n",
    "print(X.shape)"
   ]
  },
  {
   "cell_type": "code",
   "execution_count": 7,
   "id": "549b5669",
   "metadata": {},
   "outputs": [
    {
     "name": "stdout",
     "output_type": "stream",
     "text": [
      "[[-1.0154187   1.        ]\n",
      " [ 1.03997808  1.        ]\n",
      " [-1.08506306  1.        ]\n",
      " [-0.12273988  1.        ]\n",
      " [-0.8309944   1.        ]\n",
      " [-0.68568023  1.        ]\n",
      " [ 0.66430854  1.        ]\n",
      " [ 0.60875252  1.        ]\n",
      " [ 0.56090026  1.        ]\n",
      " [ 0.73211402  1.        ]\n",
      " [ 0.28853224  1.        ]\n",
      " [-0.01030849  1.        ]\n",
      " [-1.46888906  1.        ]\n",
      " [-0.39392299  1.        ]\n",
      " [-0.02936842  1.        ]\n",
      " [-1.56048816  1.        ]\n",
      " [-0.53827358  1.        ]\n",
      " [ 1.48623397  1.        ]\n",
      " [-0.78350315  1.        ]\n",
      " [ 2.1593478   1.        ]\n",
      " [-1.26616472  1.        ]\n",
      " [-1.84662735  1.        ]\n",
      " [-0.76507779  1.        ]\n",
      " [-1.67739002  1.        ]\n",
      " [-1.46937378  1.        ]\n",
      " [-0.83571224  1.        ]\n",
      " [ 0.02662167  1.        ]\n",
      " [ 0.73093575  1.        ]\n",
      " [-1.12763849  1.        ]\n",
      " [ 1.30173082  1.        ]\n",
      " [-1.88744755  1.        ]\n",
      " [-1.21699645  1.        ]\n",
      " [-0.33421409  1.        ]\n",
      " [ 0.23994379  1.        ]\n",
      " [ 0.15084952  1.        ]\n",
      " [-0.72075753  1.        ]\n",
      " [ 0.10558021  1.        ]\n",
      " [-0.56290899  1.        ]\n",
      " [-0.12422564  1.        ]\n",
      " [ 0.94825598  1.        ]\n",
      " [ 0.00455783  1.        ]\n",
      " [-1.00210834  1.        ]\n",
      " [-0.38008877  1.        ]\n",
      " [-0.83548672  1.        ]\n",
      " [ 0.89507543  1.        ]\n",
      " [-0.41427645  1.        ]\n",
      " [ 0.41173182  1.        ]\n",
      " [ 1.03165467  1.        ]\n",
      " [-0.20447034  1.        ]\n",
      " [ 1.32649935  1.        ]\n",
      " [-0.14890617  1.        ]\n",
      " [ 2.14319048  1.        ]\n",
      " [ 0.43189057  1.        ]\n",
      " [-1.40830002  1.        ]\n",
      " [ 1.18871982  1.        ]\n",
      " [-0.18499134  1.        ]\n",
      " [-0.45663836  1.        ]\n",
      " [-0.31449455  1.        ]\n",
      " [-0.24080439  1.        ]\n",
      " [-0.82277476  1.        ]\n",
      " [-1.88749296  1.        ]\n",
      " [ 0.69190807  1.        ]\n",
      " [ 0.46488557  1.        ]\n",
      " [-0.85589379  1.        ]\n",
      " [-0.27848862  1.        ]\n",
      " [-1.05520305  1.        ]\n",
      " [-0.28344862  1.        ]\n",
      " [ 0.81530524  1.        ]\n",
      " [-0.25718678  1.        ]\n",
      " [-0.38321005  1.        ]\n",
      " [ 0.15927999  1.        ]\n",
      " [ 0.880414    1.        ]\n",
      " [-1.03580485  1.        ]\n",
      " [ 0.62727968  1.        ]\n",
      " [-0.2451807   1.        ]\n",
      " [-0.20501389  1.        ]\n",
      " [ 1.09849799  1.        ]\n",
      " [-0.10566042  1.        ]\n",
      " [-0.09457616  1.        ]\n",
      " [-0.74480185  1.        ]\n",
      " [-0.08737831  1.        ]\n",
      " [-0.88355153  1.        ]\n",
      " [ 1.61751189  1.        ]\n",
      " [-0.01205271  1.        ]\n",
      " [ 0.54571257  1.        ]\n",
      " [-1.71540458  1.        ]\n",
      " [-0.57801277  1.        ]\n",
      " [ 1.68769109  1.        ]\n",
      " [ 1.41933931  1.        ]\n",
      " [ 0.37614814  1.        ]\n",
      " [-0.51976985  1.        ]\n",
      " [ 0.3769674   1.        ]\n",
      " [-0.45398547  1.        ]\n",
      " [-1.33942686  1.        ]\n",
      " [ 0.36191891  1.        ]\n",
      " [-0.99015443  1.        ]\n",
      " [-2.25449297  1.        ]\n",
      " [-0.59631947  1.        ]\n",
      " [-1.03506398  1.        ]\n",
      " [ 0.49285982  1.        ]]\n"
     ]
    }
   ],
   "source": [
    "print(X)"
   ]
  },
  {
   "cell_type": "code",
   "execution_count": 8,
   "id": "a3464345",
   "metadata": {},
   "outputs": [
    {
     "name": "stdout",
     "output_type": "stream",
     "text": [
      "(2, 1)\n",
      "[[-2.11880327]\n",
      " [-0.98095659]]\n"
     ]
    }
   ],
   "source": [
    "theta = np.random.randn(2,1)\n",
    "print(theta.shape)\n",
    "print(theta)"
   ]
  },
  {
   "cell_type": "markdown",
   "id": "c570fdb1",
   "metadata": {},
   "source": [
    "## 2.Modèle"
   ]
  },
  {
   "cell_type": "code",
   "execution_count": 9,
   "id": "8f6772eb",
   "metadata": {},
   "outputs": [],
   "source": [
    "def model(X,theta):\n",
    "    return X.dot(theta)"
   ]
  },
  {
   "cell_type": "code",
   "execution_count": 10,
   "id": "53d06a18",
   "metadata": {},
   "outputs": [
    {
     "data": {
      "text/plain": [
       "array([[ 1.17051588],\n",
       "       [-3.18446553],\n",
       "       [ 1.31807858],\n",
       "       [-0.72089492],\n",
       "       [ 0.77975706],\n",
       "       [ 0.47186493],\n",
       "       [-2.3884957 ],\n",
       "       [-2.27078342],\n",
       "       [-2.16939388],\n",
       "       [-2.53216216],\n",
       "       [-1.59229964],\n",
       "       [-0.95911492],\n",
       "       [ 2.13133036],\n",
       "       [-0.14631128],\n",
       "       [-0.91873067],\n",
       "       [ 2.32541082],\n",
       "       [ 0.15953924],\n",
       "       [-4.12999399],\n",
       "       [ 0.67913246],\n",
       "       [-5.55618977],\n",
       "       [ 1.70179735],\n",
       "       [ 2.93168348],\n",
       "       [ 0.64009274],\n",
       "       [ 2.57310288],\n",
       "       [ 2.13235738],\n",
       "       [ 0.78975323],\n",
       "       [-1.03736266],\n",
       "       [-2.52966564],\n",
       "       [ 1.40828752],\n",
       "       [-3.73906809],\n",
       "       [ 3.01817345],\n",
       "       [ 1.59761946],\n",
       "       [-0.27282267],\n",
       "       [-1.48935027],\n",
       "       [-1.30057703],\n",
       "       [ 0.54618682],\n",
       "       [-1.20466027],\n",
       "       [ 0.21173681],\n",
       "       [-0.71774689],\n",
       "       [-2.99012445],\n",
       "       [-0.99061372],\n",
       "       [ 1.14231384],\n",
       "       [-0.17562325],\n",
       "       [ 0.78927541],\n",
       "       [-2.87744533],\n",
       "       [-0.1031863 ],\n",
       "       [-1.8533353 ],\n",
       "       [-3.16682988],\n",
       "       [-0.54772416],\n",
       "       [-3.79154774],\n",
       "       [-0.66545371],\n",
       "       [-5.52195558],\n",
       "       [-1.89604773],\n",
       "       [ 2.0029541 ],\n",
       "       [-3.49962003],\n",
       "       [-0.58899633],\n",
       "       [-0.01342974],\n",
       "       [-0.3146045 ],\n",
       "       [-0.47073946],\n",
       "       [ 0.76234127],\n",
       "       [ 3.01826966],\n",
       "       [-2.44697367],\n",
       "       [-1.96595765],\n",
       "       [ 0.83251398],\n",
       "       [-0.39089399],\n",
       "       [ 1.25481107],\n",
       "       [-0.38038472],\n",
       "       [-2.708428  ],\n",
       "       [-0.4360284 ],\n",
       "       [-0.16900989],\n",
       "       [-1.31843954],\n",
       "       [-2.84638065],\n",
       "       [ 1.21371012],\n",
       "       [-2.31003882],\n",
       "       [-0.46146693],\n",
       "       [-0.54657248],\n",
       "       [-3.30845771],\n",
       "       [-0.75708293],\n",
       "       [-0.78056831],\n",
       "       [ 0.597132  ],\n",
       "       [-0.79581913],\n",
       "       [ 0.89111528],\n",
       "       [-4.40814605],\n",
       "       [-0.95541926],\n",
       "       [-2.13721416],\n",
       "       [ 2.65364824],\n",
       "       [ 0.24373875],\n",
       "       [-4.55684198],\n",
       "       [-3.98825734],\n",
       "       [-1.7779405 ],\n",
       "       [ 0.12033346],\n",
       "       [-1.77967635],\n",
       "       [-0.01905069],\n",
       "       [ 1.85702542],\n",
       "       [-1.74779156],\n",
       "       [ 1.11698585],\n",
       "       [ 3.79587048],\n",
       "       [ 0.28252705],\n",
       "       [ 1.21214035],\n",
       "       [-2.02522959]])"
      ]
     },
     "execution_count": 10,
     "metadata": {},
     "output_type": "execute_result"
    }
   ],
   "source": [
    "model(X,theta)"
   ]
  },
  {
   "cell_type": "code",
   "execution_count": 14,
   "id": "e1b7f9de",
   "metadata": {},
   "outputs": [
    {
     "data": {
      "text/plain": [
       "[<matplotlib.lines.Line2D at 0x27ef1574690>]"
      ]
     },
     "execution_count": 14,
     "metadata": {},
     "output_type": "execute_result"
    },
    {
     "data": {
      "image/png": "[encoded data removed]",
      "text/plain": [
       "<Figure size 640x480 with 1 Axes>"
      ]
     },
     "metadata": {},
     "output_type": "display_data"
    }
   ],
   "source": [
    "plt.scatter(x,y)\n",
    "plt.plot(x, model(X,theta) , c ='red')"
   ]
  },
  {
   "cell_type": "markdown",
   "id": "6405b4a7",
   "metadata": {},
   "source": [
    "## 3. Fonction coût"
   ]
  },
  {
   "cell_type": "code",
   "execution_count": 15,
   "id": "18e5a3ae",
   "metadata": {},
   "outputs": [],
   "source": [
    "def cost_function(X,y,theta):\n",
    "    m = len(y)\n",
    "    return 1/(2*m) * np.sum((model(X,theta) - y)**2)"
   ]
  },
  {
   "cell_type": "code",
   "execution_count": 16,
   "id": "32128c8a",
   "metadata": {},
   "outputs": [
    {
     "data": {
      "text/plain": [
       "999.7648354854257"
      ]
     },
     "execution_count": 16,
     "metadata": {},
     "output_type": "execute_result"
    }
   ],
   "source": [
    "cost_function(X,y,theta)"
   ]
  },
  {
   "cell_type": "markdown",
   "id": "7bb0cc87",
   "metadata": {},
   "source": [
    "## 4. Gradient et Descente de Gradient"
   ]
  },
  {
   "cell_type": "code",
   "execution_count": 17,
   "id": "701d5de7",
   "metadata": {},
   "outputs": [],
   "source": [
    "def grad(X,y,theta):\n",
    "    m = len(y)\n",
    "    return 1/m * X.T.dot(model(X,theta) - y)"
   ]
  },
  {
   "cell_type": "code",
   "execution_count": 25,
   "id": "48d1797d",
   "metadata": {},
   "outputs": [],
   "source": [
    "def gradient_descent(X,y,theta,learning_rate, n_iterations):\n",
    "    cost_history = np.zeros(n_iterations)\n",
    "    for i in range(0, n_iterations):\n",
    "        theta = theta - learning_rate*grad(X,y,theta)\n",
    "        cost_history[i] = cost_function(X,y,theta)\n",
    "    return theta, cost_history"
   ]
  },
  {
   "cell_type": "markdown",
   "id": "679fe3bd",
   "metadata": {},
   "source": [
    "## 5.Entraînement du modèle"
   ]
  },
  {
   "cell_type": "code",
   "execution_count": 26,
   "id": "2ee142b4",
   "metadata": {},
   "outputs": [],
   "source": [
    "theta_final , cost_history = gradient_descent(X,y, theta, learning_rate = 0.01, n_iterations = 1000)"
   ]
  },
  {
   "cell_type": "code",
   "execution_count": 27,
   "id": "74c50c19",
   "metadata": {},
   "outputs": [
    {
     "name": "stdout",
     "output_type": "stream",
     "text": [
      "[[44.51260872]\n",
      " [ 0.68266934]]\n"
     ]
    }
   ],
   "source": [
    "print(theta_final)"
   ]
  },
  {
   "cell_type": "code",
   "execution_count": 28,
   "id": "c144106f",
   "metadata": {},
   "outputs": [
    {
     "data": {
      "text/plain": [
       "[<matplotlib.lines.Line2D at 0x27ef2a7c450>]"
      ]
     },
     "execution_count": 28,
     "metadata": {},
     "output_type": "execute_result"
    },
    {
     "data": {
      "image/png": "[encoded data removed]",
      "text/plain": [
       "<Figure size 640x480 with 1 Axes>"
      ]
     },
     "metadata": {},
     "output_type": "display_data"
    }
   ],
   "source": [
    "prediction = model(X, theta_final)\n",
    "plt.scatter(x,y)\n",
    "plt.plot(x, prediction, c = 'r')"
   ]
  },
  {
   "cell_type": "markdown",
   "id": "4f8cde3a",
   "metadata": {},
   "source": [
    "## 6. Courbe d'apprentissage"
   ]
  },
  {
   "cell_type": "code",
   "execution_count": 29,
   "id": "3d358a7e",
   "metadata": {},
   "outputs": [
    {
     "data": {
      "text/plain": [
       "[<matplotlib.lines.Line2D at 0x27ef2ab9150>]"
      ]
     },
     "execution_count": 29,
     "metadata": {},
     "output_type": "execute_result"
    },
    {
     "data": {
      "image/png": "[encoded data removed]",
      "text/plain": [
       "<Figure size 640x480 with 1 Axes>"
      ]
     },
     "metadata": {},
     "output_type": "display_data"
    }
   ],
   "source": [
    "plt.plot(range(1000), cost_history)"
   ]
  },
  {
   "cell_type": "markdown",
   "id": "a7a408a0",
   "metadata": {},
   "source": [
    "## 7. Coefficient de détermination"
   ]
  },
  {
   "cell_type": "code",
   "execution_count": 31,
   "id": "013fc9f7",
   "metadata": {},
   "outputs": [],
   "source": [
    "def coef_determination(y , pred):\n",
    "    u = ((y-pred)**2).sum()\n",
    "    v = ((y - y.mean())**2).sum()\n",
    "    return 1-u/v"
   ]
  },
  {
   "cell_type": "code",
   "execution_count": 32,
   "id": "177c5b47",
   "metadata": {},
   "outputs": [
    {
     "data": {
      "text/plain": [
       "0.9542410209958185"
      ]
     },
     "execution_count": 32,
     "metadata": {},
     "output_type": "execute_result"
    }
   ],
   "source": [
    "coef_determination(y , prediction)"
   ]
  },
  {
   "cell_type": "code",
   "execution_count": null,
   "id": "8188125e",
   "metadata": {},
   "outputs": [],
   "source": []
  }
 ],
 "metadata": {
  "kernelspec": {
   "display_name": "Python 3 (ipykernel)",
   "language": "python",
   "name": "python3"
  },
  "language_info": {
   "codemirror_mode": {
    "name": "ipython",
    "version": 3
   },
   "file_extension": ".py",
   "mimetype": "text/x-python",
   "name": "python",
   "nbconvert_exporter": "python",
   "pygments_lexer": "ipython3",
   "version": "3.11.5"
  }
 },
 "nbformat": 4,
 "nbformat_minor": 5
}
